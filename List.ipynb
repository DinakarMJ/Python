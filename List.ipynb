{
 "cells": [
  {
   "cell_type": "code",
   "execution_count": 1,
   "id": "050e93dc",
   "metadata": {},
   "outputs": [
    {
     "name": "stdout",
     "output_type": "stream",
     "text": [
      "10\n",
      "[10, 15, 11]\n"
     ]
    }
   ],
   "source": [
    "#In Python, a list is a built-in dynamic sized array (automatically grows and shrinks). We can store all types of items \n",
    "#(including another list) in a list. A list may contain mixed type of items, this is possible because a list mainly \n",
    "#stores references at contiguous locations and actual items maybe stored at different locations.\n",
    "\n",
    "#List can contain duplicate items.\n",
    "#List in Python are Mutable. Hence, we can modify, replace or delete the items.\n",
    "#List are ordered. It maintain the order of elements based on how they are added.\n",
    "#Accessing items in List can be done directly using their position (index), starting from 0.\n",
    "\n",
    "a = [10, 20, 15]\n",
    "\n",
    "print(a[0]) # access first item\n",
    "a.append(11) # add item\n",
    "a.remove(20) # remove item\n",
    "\n",
    "print(a)"
   ]
  },
  {
   "cell_type": "code",
   "execution_count": 2,
   "id": "799c42ec",
   "metadata": {},
   "outputs": [
    {
     "name": "stdout",
     "output_type": "stream",
     "text": [
      "[1, 2, 3, 4, 5]\n",
      "['apple', 'banana', 'cherry']\n",
      "[1, 'hello', 3.14, True]\n"
     ]
    }
   ],
   "source": [
    "#Creating a List\n",
    "#Using square Braces\n",
    "\n",
    "# List of integers\n",
    "a = [1, 2, 3, 4, 5]\n",
    "\n",
    "# List of strings\n",
    "b = ['apple', 'banana', 'cherry']\n",
    "\n",
    "# Mixed data types\n",
    "c = [1, 'hello', 3.14, True]\n",
    "\n",
    "print(a)\n",
    "print(b)\n",
    "print(c)"
   ]
  },
  {
   "cell_type": "code",
   "execution_count": 3,
   "id": "f2036710",
   "metadata": {},
   "outputs": [
    {
     "name": "stdout",
     "output_type": "stream",
     "text": [
      "[1, 2, 3, 'apple', 4.5]\n"
     ]
    }
   ],
   "source": [
    "#Using list() Constructor\n",
    "# From a tuple\n",
    "a = list((1, 2, 3, 'apple', 4.5))  \n",
    "\n",
    "print(a)"
   ]
  },
  {
   "cell_type": "code",
   "execution_count": 4,
   "id": "91c5ac32",
   "metadata": {},
   "outputs": [
    {
     "name": "stdout",
     "output_type": "stream",
     "text": [
      "[2, 2, 2, 2, 2]\n",
      "[0, 0, 0, 0, 0, 0, 0]\n"
     ]
    }
   ],
   "source": [
    "#Creating List with Repeated Elements\n",
    "# Create a list [2, 2, 2, 2, 2]\n",
    "a = [2] * 5\n",
    "\n",
    "# Create a list [0, 0, 0, 0, 0, 0, 0]\n",
    "b = [0] * 7\n",
    "\n",
    "print(a)\n",
    "print(b)"
   ]
  },
  {
   "cell_type": "code",
   "execution_count": 5,
   "id": "1a700f7b",
   "metadata": {},
   "outputs": [
    {
     "name": "stdout",
     "output_type": "stream",
     "text": [
      "10\n",
      "50\n"
     ]
    }
   ],
   "source": [
    "#Accessing List Elements\n",
    "a = [10, 20, 30, 40, 50]\n",
    "\n",
    "# Access first element\n",
    "print(a[0])    \n",
    "\n",
    "# Access last element\n",
    "print(a[-1])"
   ]
  },
  {
   "cell_type": "code",
   "execution_count": 6,
   "id": "e9b8a678",
   "metadata": {},
   "outputs": [
    {
     "name": "stdout",
     "output_type": "stream",
     "text": [
      "After append(10): [10]\n",
      "After insert(0, 5): [5, 10]\n",
      "After extend([15, 20, 25]): [5, 10, 15, 20, 25]\n"
     ]
    }
   ],
   "source": [
    "#Adding Elements into List\n",
    "#We can add elements to a list using the following methods:\n",
    "\n",
    "#append(): Adds an element at the end of the list.\n",
    "#extend(): Adds multiple elements to the end of the list.\n",
    "#insert(): Adds an element at a specific position.\n",
    "\n",
    "# Initialize an empty list\n",
    "a = []\n",
    "\n",
    "# Adding 10 to end of list\n",
    "a.append(10)  \n",
    "print(\"After append(10):\", a)  \n",
    "\n",
    "# Inserting 5 at index 0\n",
    "a.insert(0, 5)\n",
    "print(\"After insert(0, 5):\", a) \n",
    "\n",
    "# Adding multiple elements  [15, 20, 25] at the end\n",
    "a.extend([15, 20, 25])  \n",
    "print(\"After extend([15, 20, 25]):\", a)"
   ]
  },
  {
   "cell_type": "code",
   "execution_count": null,
   "id": "e20a063e",
   "metadata": {},
   "outputs": [],
   "source": []
  }
 ],
 "metadata": {
  "kernelspec": {
   "display_name": "Python 3 (ipykernel)",
   "language": "python",
   "name": "python3"
  },
  "language_info": {
   "codemirror_mode": {
    "name": "ipython",
    "version": 3
   },
   "file_extension": ".py",
   "mimetype": "text/x-python",
   "name": "python",
   "nbconvert_exporter": "python",
   "pygments_lexer": "ipython3",
   "version": "3.10.3"
  }
 },
 "nbformat": 4,
 "nbformat_minor": 5
}
